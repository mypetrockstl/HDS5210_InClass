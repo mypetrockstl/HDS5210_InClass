{
  "cells": [
    {
      "cell_type": "markdown",
      "metadata": {
        "id": "view-in-github",
        "colab_type": "text"
      },
      "source": [
        "<a href=\"https://colab.research.google.com/github/twinklegithub/HDS5210_InClass/blob/master/week06/week07_assignment.ipynb\" target=\"_parent\"><img src=\"https://colab.research.google.com/assets/colab-badge.svg\" alt=\"Open In Colab\"/></a>"
      ]
    },
    {
      "cell_type": "markdown",
      "metadata": {
        "id": "kty6yqo9SwoR"
      },
      "source": [
        "# Week 7 Assignment\n",
        "\n",
        "We've been working with different types of data structures in Python (dictionary, list, etc), how those are represented in JSON documents, and how to write code to access specific data elements. In this week's assignment, you will need to create your own JSON document to store information about yourself and the grades you've received from week 1 to week 4 and the week 6 quiz.  That is, everything you should have received a grade for.  Then you'll need to show me you know how to navigate the JSON in that file.\n",
        "\n",
        "Different from what we've done in the past, you do not have to write any functions or include any docstrings.  Just create some JSON and write some code.\n",
        "\n",
        "---"
      ]
    },
    {
      "cell_type": "markdown",
      "metadata": {
        "id": "w8xr29HISwoS"
      },
      "source": [
        "## 7.1 Create a JSON file\n",
        "\n",
        "Create a JSON file that contains your name, email, year you were born, all of the grades you've received back so far, and a comment about what you thought was most challenging on each of those assignments.  This can be any structure you choose, but make sure it uses a dictionary and a list, and has at least two levels of hierarchy.  That is, it can't just be one big long list."
      ]
    },
    {
      "cell_type": "markdown",
      "metadata": {
        "id": "zwO9hmEHSwoT"
      },
      "source": [
        "First, explain how your data structure is going to look..."
      ]
    },
    {
      "cell_type": "markdown",
      "metadata": {
        "id": "UDmCsakSSwoT"
      },
      "source": [
        "* Put your explanation here in text..."
      ]
    },
    {
      "cell_type": "markdown",
      "metadata": {
        "id": "URSn3oW1SwoT"
      },
      "source": [
        "Then put the actual JSON you've created inside the multiline string below..."
      ]
    },
    {
      "cell_type": "code",
      "execution_count": 4,
      "metadata": {
        "id": "qOiQZL8ISwoT"
      },
      "outputs": [],
      "source": [
        "hds5210 = \"\"\"\n",
        "{\n",
        "  \"name\": \"mounika mandava\",  # This is my name\n",
        "  \"email\": \"mounika.mandava@slu.edu\",  # This is my email address\n",
        "  \"year_born\": 2000 ,  # This is the year I was born\n",
        "  \"grades\": [  # A list that stores all my assignment grades and comments\n",
        "    {\n",
        "      \"assignment\": \"Assignment 1\",  # The first assignment\n",
        "      \"grade\": 10,  # My grade for this assignment\n",
        "      \"comment\": \"Understanding the JSON structure and parsing it correctly.\"  # The most challenging part of the assignment\n",
        "    },\n",
        "    {\n",
        "      \"assignment\": \"Assignment 2\",  # The second assignment\n",
        "      \"grade\": 08,  # My grade for this assignment\n",
        "      \"comment\": \"Implementing recursive functions was tricky and took time to debug.\"  # The most challenging part of the assignment\n",
        "    },\n",
        "    {\n",
        "      \"assignment\": \"Assignment 3\",  # The third assignment\n",
        "      \"grade\": 10,  # My grade for this assignment\n",
        "      \"comment\": \"Implementing recursive functions was tricky and took time to debug.\"  # The most challenging part of the assignment\n",
        "    },\n",
        "    {\n",
        "      \"assignment\": \"Assignment 4\",  # The fourth assignment\n",
        "      \"grade\": 10,  # My grade for this assignment\n",
        "      \"comment\": \"The most challenging part was optimizing the code for better performance.\"  # The most challenging part of the assignment\n",
        "    }\n",
        "  ]\n",
        "}\n",
        "\"\"\""
      ]
    },
    {
      "cell_type": "markdown",
      "metadata": {
        "id": "-edIijFdSwoU"
      },
      "source": [
        "## 7.2 Do something with your JSON\n",
        "\n",
        "Now use Python code to do something with the Json above.  Turn it into English text, but make sure that you use at least one loop to access some dict or list content of your JSON.  Below, I've provided some basic code to read in the string above as JSON and return a Python object.  Your job is to work with that data structure and print out the important information like your name, email, and how you did on each assignment."
      ]
    },
    {
      "cell_type": "code",
      "execution_count": 10,
      "metadata": {
        "id": "nvId1cMzSwoU",
        "outputId": "9f8e2b20-c6c9-44aa-a507-49ac160abec2",
        "colab": {
          "base_uri": "https://localhost:8080/"
        }
      },
      "outputs": [
        {
          "output_type": "stream",
          "name": "stdout",
          "text": [
            "My name is mounika mandava, my email address is mounika.mandava@slu.edu, and I was born in 2000.\n",
            "Here is how I performed on my assignments:\n",
            "- For Assignment 1, I received a grade of 10. The most challenging part was: Understanding the JSON structure and parsing it correctly.\n",
            "- For Assignment 2, I received a grade of 8. The most challenging part was: Implementing recursive functions was tricky and took time to debug.\n",
            "- For Assignment 3, I received a grade of 10. The most challenging part was: Implementing recursive functions was tricky and took time to debug.\n",
            "- For Assignment 4, I received a grade of 10. The most challenging part was: The most challenging part was optimizing the code for better performance.\n",
            "\n"
          ]
        }
      ],
      "source": [
        "import json\n",
        "\n",
        "# Your JSON data as a string\n",
        "hds5210 = \"\"\"\n",
        "{\n",
        "  \"name\": \"mounika mandava\",\n",
        "  \"email\": \"mounika.mandava@slu.edu\",\n",
        "  \"year_born\": 2000,\n",
        "  \"grades\": [\n",
        "    {\n",
        "      \"assignment\": \"Assignment 1\",\n",
        "      \"grade\": 10,\n",
        "      \"comment\": \"Understanding the JSON structure and parsing it correctly.\"\n",
        "    },\n",
        "    {\n",
        "      \"assignment\": \"Assignment 2\",\n",
        "      \"grade\": 8,\n",
        "      \"comment\": \"Implementing recursive functions was tricky and took time to debug.\"\n",
        "    },\n",
        "    {\n",
        "      \"assignment\": \"Assignment 3\",\n",
        "      \"grade\": 10,\n",
        "      \"comment\": \"Implementing recursive functions was tricky and took time to debug.\"\n",
        "    },\n",
        "    {\n",
        "      \"assignment\": \"Assignment 4\",\n",
        "      \"grade\": 10,\n",
        "      \"comment\": \"The most challenging part was optimizing the code for better performance.\"\n",
        "    }\n",
        "  ]\n",
        "}\n",
        "\"\"\"\n",
        "\n",
        "# Load the JSON data into a Python dictionary\n",
        "info = json.loads(hds5210)\n",
        "\n",
        "# Extract the name, email, and year born\n",
        "name = info[\"name\"]\n",
        "email = info[\"email\"]\n",
        "year_born = info[\"year_born\"]\n",
        "\n",
        "# Create the output string\n",
        "output = f\"My name is {name}, my email address is {email}, and I was born in {year_born}.\\nHere is how I performed on my assignments:\\n\"\n",
        "\n",
        "# Loop through the grades and add details about each assignment\n",
        "for grade_info in info[\"grades\"]:\n",
        "    assignment = grade_info[\"assignment\"]\n",
        "    grade = grade_info[\"grade\"]\n",
        "    comment = grade_info[\"comment\"]\n",
        "\n",
        "    output += f\"- For {assignment}, I received a grade of {grade}. The most challenging part was: {comment}\\n\"\n",
        "\n",
        "# Print the final output\n",
        "print(output)"
      ]
    },
    {
      "cell_type": "markdown",
      "metadata": {
        "id": "4W8CH1c9SwoU"
      },
      "source": [
        "## 7.3 Reflect\n",
        "\n",
        "Write a paragraph on any reflections you have. Was this hard? Easy?  What parts were most challenging or easiest? What did you like or dislike about the assignment?  Share whatever important thoughts you have abou this assignment."
      ]
    },
    {
      "cell_type": "markdown",
      "source": [
        "put your response here in text...\n",
        "This assignment was an excellent way to practice working with JSON data and transforming it into a format that is easier for humans to understand using Python. I found the assignment to be very straightforward overall because I am familiar with the fundamental Python techniques, such as dictionaries and loops. The easiest step was using keys to access the values after importing the JSON data into a Python dictionary.\n",
        "\n",
        "Looping through the assignments and structuring the text in a comprehensible manner while creating the English paragraph was the slightly more difficult part. Although careful string concatenation was necessary to make sure everything appeared tidy, it served as a helpful refresher of how to work with dynamic data in Python."
      ],
      "metadata": {
        "id": "PImDlbrcPK75"
      }
    },
    {
      "cell_type": "markdown",
      "metadata": {
        "id": "6fTUGzNtSwoU"
      },
      "source": [
        "---\n",
        "\n",
        "# Example\n",
        "\n",
        "Below is an example of something similar, but this uses information my and my friend's kids instead of grades."
      ]
    },
    {
      "cell_type": "code",
      "execution_count": 11,
      "metadata": {
        "id": "ct_8ZiGXSwoU",
        "outputId": "5551cf3f-2cdd-418b-9e97-909641f25661",
        "colab": {
          "base_uri": "https://localhost:8080/"
        }
      },
      "outputs": [
        {
          "output_type": "stream",
          "name": "stdout",
          "text": [
            "Hi, my name is Paul. I've got 3 kids. Their names are Ellie, Ada, Teddy.\n",
            "My friend, Anny has 1 kids. That's fewer than me. Their names are 1\n"
          ]
        }
      ],
      "source": [
        "hds5210 = \"\"\"\n",
        "{\n",
        "    \"me\": {\n",
        "        \"name\": \"Paul\",\n",
        "        \"kids\": [\"Ellie\", \"Ada\", \"Teddy\"]\n",
        "    },\n",
        "    \"friend\": {\n",
        "        \"name\": \"Anny\",\n",
        "        \"kids\": [\"Abby\"]\n",
        "    }\n",
        "}\n",
        "\"\"\"\n",
        "\n",
        "import json\n",
        "\n",
        "info = json.loads(hds5210)\n",
        "\n",
        "me = info[\"me\"][\"name\"]\n",
        "my_kids_count = len(info[\"me\"][\"kids\"])\n",
        "kids_list = \", \".join(info[\"me\"][\"kids\"])\n",
        "friend = info[\"friend\"][\"name\"]\n",
        "friends_kid_count = len(info[\"friend\"][\"kids\"])\n",
        "friend_kids = \", \".join(info[\"friend\"][\"kids\"])\n",
        "compare = \"more\" if friends_kid_count > my_kids_count else \"fewer\"\n",
        "\n",
        "print(f\"Hi, my name is {me}. I've got {my_kids_count} kids. Their names are {kids_list}.\")\n",
        "print(f\"My friend, {friend} has {friends_kid_count} kids. That's {compare} than me. Their names are {friends_kid_count}\")"
      ]
    }
  ],
  "metadata": {
    "kernelspec": {
      "display_name": "Python 3",
      "language": "python",
      "name": "python3"
    },
    "language_info": {
      "codemirror_mode": {
        "name": "ipython",
        "version": 3
      },
      "file_extension": ".py",
      "mimetype": "text/x-python",
      "name": "python",
      "nbconvert_exporter": "python",
      "pygments_lexer": "ipython3",
      "version": "3.9.16"
    },
    "colab": {
      "provenance": [],
      "include_colab_link": true
    }
  },
  "nbformat": 4,
  "nbformat_minor": 0
}