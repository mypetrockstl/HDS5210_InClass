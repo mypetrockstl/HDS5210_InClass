{
  "cells": [
    {
      "cell_type": "markdown",
      "metadata": {
        "id": "view-in-github",
        "colab_type": "text"
      },
      "source": [
        "<a href=\"https://colab.research.google.com/github/twinklegithub/HDS5210_InClass/blob/master/midterm/midterm.ipynb\" target=\"_parent\"><img src=\"https://colab.research.google.com/assets/colab-badge.svg\" alt=\"Open In Colab\"/></a>"
      ]
    },
    {
      "cell_type": "markdown",
      "metadata": {
        "id": "pNzh09PIrJMH"
      },
      "source": [
        "### Mid-term for HDS5210\n",
        "\n",
        "Your supervisor is concerned about 4-year survival risks for COPD. She has asked for you to do some analysis using a new metric, BODE. BODE is an improvement on a previous metric and promises to provide insight on survival risks.\n",
        "\n",
        "BODE is defined here. https://www.mdcalc.com/calc/3916/bode-index-copd-survival#evidence\n",
        "\n",
        "Your assignment is to create a BODE calculation, use it to calculate BODE scores and BODE survival rates for a group of patients. Then we want to evaluate the average BODE scores and BODE survival rates for each area hospital.\n",
        "\n",
        "Your patient input file will have the following columns:\n",
        "NAME,SSN,LANGUAGE,JOB,HEIGHT_M,WEIGHT_KG,fev_pct,dyspnea_description,distance_in_meters,hospital\n",
        "\n",
        "BODE calculations require a BMI value, so you will have to create a function for it.\n",
        "\n",
        "Your output should be in the form of two CSV files, patient_output.csv and hospital_output.csv.\n",
        "\n",
        "Patient_output will have the following columns:\n",
        "NAME,BODE_SCORE,BODE_RISK,HOSPITAL\n",
        "\n",
        "Hospital output will have the following columns:\n",
        "HOSPITAL_NAME, COPD_COUNT, PCT_OF_COPD_CASES_OVER_BEDS, AVG_SCORE, AVG_RISK\n",
        "\n",
        "Each function you create should have documentation and a suitable number of test cases. If the input data could be wrong, make sure to raise a Value Error.\n",
        "\n",
        "For this assignment, use the doctest, json, and csv libraries. Pandas is not allowed for this assignment."
      ]
    },
    {
      "cell_type": "code",
      "execution_count": 77,
      "metadata": {
        "id": "uGmT3YTHrJMI"
      },
      "outputs": [],
      "source": [
        "import doctest\n",
        "import json\n",
        "import csv"
      ]
    },
    {
      "cell_type": "markdown",
      "metadata": {
        "id": "mONqyDJOrJMJ"
      },
      "source": [
        "### Step 1: Calculate BMI"
      ]
    },
    {
      "cell_type": "code",
      "execution_count": 78,
      "metadata": {
        "id": "eczKuim6rJMJ"
      },
      "outputs": [],
      "source": [
        "def calculate_bmi(weight_kg, height_m):\n",
        "    \"\"\"\n",
        "    Calculate the BMI from weight and height.\n",
        "\n",
        "    Parameters:\n",
        "    weight_kg (float): Weight in kilograms.\n",
        "    height_m (float): Height in meters.\n",
        "\n",
        "    Returns:\n",
        "    float: BMI value rounded to two decimal places.\n",
        "\n",
        "    Raises:\n",
        "    ValueError: If weight or height is non-positive.\n",
        "\n",
        "    Examples:\n",
        "\n",
        "    >>> calculate_bmi(80, 1.8)\n",
        "    24.69\n",
        "\n",
        "    >>> calculate_bmi(90, 1.9)\n",
        "    24.93\n",
        "\n",
        "    >>> calculate_bmi(55, 1.55)\n",
        "    22.89\n",
        "    \"\"\"\n",
        "    if weight_kg <= 0 or height_m <= 0:\n",
        "        raise ValueError(\"Weight and height always must be positive numbers.\")\n",
        "\n",
        "    bmi = weight_kg / (height_m ** 2)\n",
        "    return round(bmi, 2)\n",
        "\n",
        "\n"
      ]
    },
    {
      "cell_type": "markdown",
      "metadata": {
        "id": "0dMvlYXwrJMJ"
      },
      "source": [
        "### Step 2: Calculate BODE Score"
      ]
    },
    {
      "cell_type": "code",
      "execution_count": 79,
      "metadata": {
        "id": "edtfPezqrJMJ"
      },
      "outputs": [],
      "source": [
        "def normalize_dyspnea_description(description):\n",
        "    \"\"\"\n",
        "    Normalize variations of dyspnea descriptions to fit known categories.\n",
        "\n",
        "    Parameters:\n",
        "    description (str): Original dyspnea description.\n",
        "\n",
        "    Returns:\n",
        "    str: Normalized dyspnea description.\n",
        "\n",
        "    Examples:\n",
        "    >>> normalize_dyspnea_description(\"STOPS AFTER A FEW MINUTES\")\n",
        "    'Severe breathlessness'\n",
        "\n",
        "    >>> normalize_dyspnea_description(\"WHEN HURRYING\")\n",
        "    'Moderate breathlessness'\n",
        "\n",
        "    >>> normalize_dyspnea_description(\"UNABLE TO LEAVE HOME\")\n",
        "    'Severe breathlessness'\n",
        "\n",
        "    >>> normalize_dyspnea_description(\"ONLY STRENUOUS EXERCISE\")\n",
        "    'Mild breathlessness'\n",
        "\n",
        "    >>> normalize_dyspnea_description(\"WALKING UPHILL\")\n",
        "    'Moderate breathlessness'\n",
        "\n",
        "    >>> normalize_dyspnea_description(\"UNKNOWN DESCRIPTION\")\n",
        "    'Invalid description'\n",
        "    \"\"\"\n",
        "    description = description.upper().strip()\n",
        "\n",
        "    dyspnea_mapping = {\n",
        "        \"STOPS AFTER A FEW MINUTES\": \"Severe breathlessness\",\n",
        "        \"WHEN HURRYING\": \"Moderate breathlessness\",\n",
        "        \"UNABLE TO LEAVE HOME\": \"Severe breathlessness\",\n",
        "        \"SLOWER THAN PEERS\": \"Moderate breathlessness\",\n",
        "        \"WALKING UPHILL\": \"Moderate breathlessness\",\n",
        "        \"ONLY STRENUOUS EXERCISE\": \"Mild breathlessness\",\n",
        "        \"BREATHLESS WHEN DRESSING\": \"Severe breathlessness\",\n",
        "        \"STOPS WHEN WALKING AT PACE\": \"Severe breathlessness\",\n",
        "        \"STOPS AFTER 100 YARDS\": \"Severe breathlessness\",\n",
        "    }\n",
        "\n",
        "    return dyspnea_mapping.get(description, \"Invalid description\")\n",
        "\n",
        "def calculate_bode_score(bmi, fev_pct, dyspnea_description, distance_in_meters):\n",
        "    \"\"\"\n",
        "    Calculate the BODE score based on BMI, FEV1 percentage, dyspnea description, and distance in meters.\n",
        "\n",
        "    Parameters:\n",
        "    bmi (float): Body Mass Index.\n",
        "    fev_pct (float): FEV1 percentage.\n",
        "    dyspnea_description (str): Description of dyspnea.\n",
        "    distance_in_meters (float): Distance walked in meters.\n",
        "\n",
        "    Returns:\n",
        "    int: BODE score.\n",
        "\n",
        "    Raises:\n",
        "    ValueError: If the dyspnea description is invalid.\n",
        "\n",
        "    Examples:\n",
        "    >>> calculate_bode_score(22, 70, 'ONLY STRENUOUS EXERCISE', 400)\n",
        "    1\n",
        "\n",
        "    >>> calculate_bode_score(18, 40, 'STOPS WHEN WALKING AT PACE', 200)\n",
        "    8\n",
        "\n",
        "    >>> calculate_bode_score(25, 80, 'WHEN HURRYING', 300)\n",
        "    2\n",
        "\n",
        "    >>> calculate_bode_score(20, 55, 'UNABLE TO LEAVE HOME', 100)\n",
        "    7\n",
        "\n",
        "    >>> calculate_bode_score(19, 30, 'UNKNOWN DESCRIPTION', 150)\n",
        "    Traceback (most recent call last):\n",
        "        ...\n",
        "    ValueError: Invalid dyspnea description.\n",
        "    \"\"\"\n",
        "    bode_score = 0\n",
        "\n",
        "    # Calculate BMI score\n",
        "    bode_score += 0 if bmi > 21 else 1\n",
        "\n",
        "    # Calculate FEV1 score\n",
        "    if fev_pct >= 65:\n",
        "        bode_score += 0\n",
        "    elif 50 <= fev_pct < 65:\n",
        "        bode_score += 1\n",
        "    elif 36 <= fev_pct < 50:\n",
        "        bode_score += 2\n",
        "    else:\n",
        "        bode_score += 3\n",
        "\n",
        "    # Normalize dyspnea description and map it to a score\n",
        "    dyspnea_score = normalize_dyspnea_description(dyspnea_description)\n",
        "\n",
        "    if dyspnea_score == \"Invalid description\":\n",
        "        raise ValueError(\"Invalid dyspnea description.\")\n",
        "\n",
        "    dyspnea_mapping = {\n",
        "        \"No breathlessness\": 0,\n",
        "        \"Mild breathlessness\": 1,\n",
        "        \"Moderate breathlessness\": 2,\n",
        "        \"Severe breathlessness\": 3,\n",
        "    }\n",
        "\n",
        "    bode_score += dyspnea_mapping.get(dyspnea_score, 0)  # Default to 0 if not found\n",
        "\n",
        "    # Calculate distance walked score\n",
        "    if distance_in_meters > 350:\n",
        "        bode_score += 0\n",
        "    elif 250 <= distance_in_meters <= 350:\n",
        "        bode_score += 1\n",
        "    elif 150 <= distance_in_meters < 250:\n",
        "        bode_score += 2\n",
        "    else:\n",
        "        bode_score += 3\n",
        "\n",
        "    return bode_score\n"
      ]
    },
    {
      "cell_type": "markdown",
      "metadata": {
        "id": "nzIQVdAhrJMJ"
      },
      "source": [
        "### Step 3: Calculate BODE Risk"
      ]
    },
    {
      "cell_type": "code",
      "execution_count": 80,
      "metadata": {
        "id": "c0LuyLhSrJMJ"
      },
      "outputs": [],
      "source": [
        "def calculate_bode_risk(bode_score: int) -> str:\n",
        "    \"\"\"\n",
        "    Calculate the BODE risk category based on the BODE score.\n",
        "\n",
        "    Parameters:\n",
        "    bode_score (int): The BODE score.\n",
        "\n",
        "    Returns:\n",
        "    str: BODE risk category.\n",
        "\n",
        "    Examples:\n",
        "    >>> calculate_bode_risk(0)\n",
        "    'Low Risk'\n",
        "\n",
        "    >>> calculate_bode_risk(2)\n",
        "    'Low Risk'\n",
        "\n",
        "    >>> calculate_bode_risk(3)\n",
        "    'Moderate Risk'\n",
        "\n",
        "    >>> calculate_bode_risk(4)\n",
        "    'Moderate Risk'\n",
        "\n",
        "    >>> calculate_bode_risk(5)\n",
        "    'Moderate Risk'\n",
        "\n",
        "    >>> calculate_bode_risk(6)\n",
        "    'High Risk'\n",
        "\n",
        "    >>> calculate_bode_risk(10)\n",
        "    'High Risk'\n",
        "    \"\"\"\n",
        "    if bode_score <= 2:\n",
        "        return \"Low Risk\"\n",
        "    elif 3 <= bode_score <= 5:\n",
        "        return \"Moderate Risk\"\n",
        "    else:\n",
        "        return \"High Risk\"\n",
        "\n",
        "\n"
      ]
    },
    {
      "cell_type": "markdown",
      "metadata": {
        "id": "3Zd_qavKrJMJ"
      },
      "source": [
        "### Step 4: Load Hospital Data"
      ]
    },
    {
      "cell_type": "code",
      "execution_count": 81,
      "metadata": {
        "id": "bpFa5qDqrJMJ"
      },
      "outputs": [],
      "source": [
        "import json\n",
        "\n",
        "def load_hospital_data(json_file: str) -> dict:\n",
        "    \"\"\"\n",
        "    Open a JSON file containing hospital data.\n",
        "\n",
        "    Parameters:\n",
        "    json_file (str): The path to the hospital data JSON file.\n",
        "\n",
        "    Returns:\n",
        "    dict: Hospital data parsed from the JSON file.\n",
        "\n",
        "    Raises:\n",
        "    FileNotFoundError: If the specified file does not exist.\n",
        "    json.JSONDecodeError: If the file content is not valid JSON.\n",
        "\n",
        "    Examples:\n",
        "    >>> import json\n",
        "    >>> with open('hospital_data.json', 'w') as f:\n",
        "    ...     json.dump({\"hospitals\": [{\"name\": \"General Hospital\", \"beds\": 100}]}, f)\n",
        "    >>> data = load_hospital_data('hospital_data.json')\n",
        "    >>> isinstance(data, dict)\n",
        "    True\n",
        "    >>> len(data['hospitals'])\n",
        "    1\n",
        "    >>> data['hospitals'][0]['name']\n",
        "    'General Hospital'\n",
        "    >>> data['hospitals'][0]['beds']\n",
        "    100\n",
        "\n",
        "    >>> # Error case: File does not exist\n",
        "    >>> load_hospital_data('non_existent_file.json')\n",
        "    Traceback (most recent call last):\n",
        "        ...\n",
        "    FileNotFoundError: File not found: non_existent_file.json\n",
        "\n",
        "    >>> # Error case: Invalid JSON content\n",
        "    >>> with open('invalid_hospital_data.json', 'w') as f:\n",
        "    ...     f.write(\"This is not valid JSON\")\n",
        "    >>> load_hospital_data('invalid_hospital_data.json')\n",
        "    Traceback (most recent call last):\n",
        "        ...\n",
        "    ValueError: Error decoding JSON from the file: invalid_hospital_data.json\n",
        "\n",
        "    >>> # Error case: Empty JSON file\n",
        "    >>> with open('empty_hospital_data.json', 'w') as f:\n",
        "    ...     f.write(\"{}\")\n",
        "    >>> data = load_hospital_data('empty_hospital_data.json')\n",
        "    >>> isinstance(data, dict)\n",
        "    True\n",
        "    >>> len(data.get('hospitals', []))\n",
        "    0\n",
        "    \"\"\"\n",
        "    try:\n",
        "        with open(json_file, 'r') as file:\n",
        "            return json.load(file)\n",
        "    except FileNotFoundError as e:\n",
        "        raise FileNotFoundError(f\"File not found: {json_file}\") from e\n",
        "    except json.JSONDecodeError as e:\n",
        "        raise ValueError(f\"Error decoding JSON from the file: {json_file}\") from e\n",
        "\n"
      ]
    },
    {
      "cell_type": "markdown",
      "metadata": {
        "id": "YU1BpJN0rJMJ"
      },
      "source": [
        "### Step 5: Main business logic\n",
        "\n",
        "Call BODE Score, BODE Risk functions for each patient.\n",
        "\n",
        "For each hospital, calculate Avg BODE score and Avg BODE risk and count the number of cases for each hospital."
      ]
    },
    {
      "cell_type": "code",
      "execution_count": 82,
      "metadata": {
        "id": "-BKoMXyqrJMJ"
      },
      "outputs": [],
      "source": [
        "import csv\n",
        "import json  # If you're loading JSON\n",
        "def load_hospital_data(file_path):\n",
        "    with open(file_path, 'r') as f:\n",
        "        return json.load(f)\n",
        "def calculate_bmi(weight_kg, height_m):\n",
        "    return weight_kg / (height_m ** 2)\n",
        "\n",
        "def calculate_bode_score(bmi, fev_pct, dyspnea_description, distance_in_meters):\n",
        "    # Sample calculation\n",
        "    return bmi + (100 - fev_pct) + (1 if dyspnea_description else 0) + (1 if distance_in_meters < 100 else 0)\n",
        "\n",
        "def calculate_bode_risk(bode_score):\n",
        "    # Define risk based on BODE score\n",
        "    return \"Low\" if bode_score < 2 else \"High\"\n",
        "def test_calculate_bmi():\n",
        "    assert calculate_bmi(70, 1.75) == 22.86  # expected BMI for 70 kg, 1.75 m\n",
        "\n",
        "def test_calculate_bode_score():\n",
        "    assert calculate_bode_score(22.86, 80, \"mild\", 150) == expected_score  # Define expected score based on your logic\n",
        "\n",
        "def test_hospital_metrics():\n",
        "    # Mock data\n",
        "    mock_hospital_data = {\n",
        "        \"Hospital A\": {\n",
        "            \"total_bode_score\": 50,\n",
        "            \"total_risk\": 5,\n",
        "            \"copd_count\": 5,\n",
        "            \"beds\": 100\n",
        "        }\n",
        "    }\n",
        "    # Implement logic to test average calculation\n",
        "def test_calculate_bmi():\n",
        "    assert calculate_bmi(70, 1.75) == 22.86  # expected BMI for 70 kg, 1.75 m\n",
        "\n",
        "def test_calculate_bode_score():\n",
        "    assert calculate_bode_score(22.86, 80, \"mild\", 150) == expected_score  # Define expected score based on your logic\n",
        "\n",
        "def test_hospital_metrics():\n",
        "    # Mock data\n",
        "    mock_hospital_data = {\n",
        "        \"Hospital A\": {\n",
        "            \"total_bode_score\": 50,\n",
        "            \"total_risk\": 5,\n",
        "            \"copd_count\": 5,\n",
        "            \"beds\": 100\n",
        "        }\n",
        "    }\n",
        "    # Implement logic to test average calculation\n"
      ]
    },
    {
      "cell_type": "code",
      "source": [
        "if __name__ == \"__main__\":\n",
        "    # Execute doctest to run the tests defined in the docstrings of the functions.\n",
        "    doctest.testmod()\n"
      ],
      "metadata": {
        "id": "ChV61MhoJOMx"
      },
      "execution_count": 83,
      "outputs": []
    },
    {
      "cell_type": "code",
      "source": [],
      "metadata": {
        "id": "s7kRMS7ND3cr"
      },
      "execution_count": null,
      "outputs": []
    }
  ],
  "metadata": {
    "language_info": {
      "name": "python"
    },
    "colab": {
      "provenance": [],
      "include_colab_link": true
    },
    "kernelspec": {
      "name": "python3",
      "display_name": "Python 3"
    }
  },
  "nbformat": 4,
  "nbformat_minor": 0
}