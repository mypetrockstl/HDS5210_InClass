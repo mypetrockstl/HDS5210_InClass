{
  "cells": [
    {
      "cell_type": "markdown",
      "metadata": {
        "id": "view-in-github",
        "colab_type": "text"
      },
      "source": [
        "<a href=\"https://colab.research.google.com/github/twinklegithub/HDS5210_InClass/blob/master/week05/week05-inclass-docstrings.ipynb\" target=\"_parent\"><img src=\"https://colab.research.google.com/assets/colab-badge.svg\" alt=\"Open In Colab\"/></a>"
      ]
    },
    {
      "cell_type": "code",
      "execution_count": null,
      "metadata": {
        "id": "ZkvGhk7rpM2X"
      },
      "outputs": [],
      "source": [
        "import doctest"
      ]
    },
    {
      "cell_type": "markdown",
      "metadata": {
        "id": "dr-0jXr9pM2Z"
      },
      "source": [
        "### DocStrings\n",
        "1. Write a DocString to describe the functionality of this function\n",
        "2. Write a set of tests that exercise the function.\n",
        "3. Call doctest and fix any errors"
      ]
    },
    {
      "cell_type": "code",
      "execution_count": 11,
      "metadata": {
        "id": "q0uVaBbXpM2Z",
        "outputId": "778f8459-88cf-494f-f272-f1b47a67677f",
        "colab": {
          "base_uri": "https://localhost:8080/",
          "height": 106
        }
      },
      "outputs": [
        {
          "output_type": "error",
          "ename": "IndentationError",
          "evalue": "unexpected indent (<ipython-input-11-56f95e9f1757>, line 12)",
          "traceback": [
            "\u001b[0;36m  File \u001b[0;32m\"<ipython-input-11-56f95e9f1757>\"\u001b[0;36m, line \u001b[0;32m12\u001b[0m\n\u001b[0;31m    if length_of_stay <= 3 :\u001b[0m\n\u001b[0m    ^\u001b[0m\n\u001b[0;31mIndentationError\u001b[0m\u001b[0;31m:\u001b[0m unexpected indent\n"
          ]
        }
      ],
      "source": [
        "def LACE(length_of_stay, acute_flag, charlson, ed_visits):\n",
        "  \"\"\"(int, bool, int, int) -> int\n",
        "  Fancy description of the function including how we translate variables to score values\n",
        "  LOS | score\n",
        "   3<=| LOS\n",
        "\n",
        "   >>> LACE(0, false, 0, 0)\n",
        "   0\n",
        "   >>>LACE(0, true, 0,  0)\n",
        "   3\n",
        "  \"\"\"\n",
        "    if length_of_stay <= 3 :\n",
        "        stay_score = length_of_stay\n",
        "    elif length_of_stay >=4 and length_of_stay <= 6 :\n",
        "        stay_score = 4\n",
        "    elif length_of_stay >=7 and length_of_stay <= 13 :\n",
        "        stay_score = 5\n",
        "    else:\n",
        "        stay_score = 7\n",
        "\n",
        "    acute_score = 0\n",
        "    if acute_flag :\n",
        "        acute_score = 3\n",
        "\n",
        "    if charlson >= 4 :\n",
        "        charlson_score = 5\n",
        "    else :\n",
        "        charlson_score = charlson\n",
        "\n",
        "    if ed_visits >= 4 :\n",
        "        visit_score = 4\n",
        "    else :\n",
        "        visit_score = ed_visits\n",
        "\n",
        "    score = stay_score + acute_score + charlson_score + visit_score\n",
        "\n",
        "    return score"
      ]
    },
    {
      "cell_type": "code",
      "execution_count": 5,
      "metadata": {
        "id": "ymYYe8MBpM2a",
        "outputId": "772c07f1-5d29-4d38-9319-26619ea2e224",
        "colab": {
          "base_uri": "https://localhost:8080/",
          "height": 141
        }
      },
      "outputs": [
        {
          "output_type": "error",
          "ename": "NameError",
          "evalue": "name 'doctest' is not defined",
          "traceback": [
            "\u001b[0;31m---------------------------------------------------------------------------\u001b[0m",
            "\u001b[0;31mNameError\u001b[0m                                 Traceback (most recent call last)",
            "\u001b[0;32m<ipython-input-5-f213fbc6f4eb>\u001b[0m in \u001b[0;36m<cell line: 1>\u001b[0;34m()\u001b[0m\n\u001b[0;32m----> 1\u001b[0;31m \u001b[0mdoctest\u001b[0m\u001b[0;34m.\u001b[0m\u001b[0mrun_docstring_examples\u001b[0m\u001b[0;34m(\u001b[0m\u001b[0mLACE\u001b[0m\u001b[0;34m,\u001b[0m \u001b[0mglobals\u001b[0m\u001b[0;34m(\u001b[0m\u001b[0;34m)\u001b[0m\u001b[0;34m,\u001b[0m \u001b[0mverbose\u001b[0m\u001b[0;34m=\u001b[0m\u001b[0;32mTrue\u001b[0m\u001b[0;34m)\u001b[0m\u001b[0;34m\u001b[0m\u001b[0;34m\u001b[0m\u001b[0m\n\u001b[0m",
            "\u001b[0;31mNameError\u001b[0m: name 'doctest' is not defined"
          ]
        }
      ],
      "source": [
        "doctest.run_docstring_examples(LACE, globals(), verbose=True)"
      ]
    }
  ],
  "metadata": {
    "language_info": {
      "name": "python"
    },
    "colab": {
      "provenance": [],
      "include_colab_link": true
    },
    "kernelspec": {
      "name": "python3",
      "display_name": "Python 3"
    }
  },
  "nbformat": 4,
  "nbformat_minor": 0
}